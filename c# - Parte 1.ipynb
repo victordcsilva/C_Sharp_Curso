{
 "cells": [
  {
   "cell_type": "markdown",
   "metadata": {},
   "source": [
    "# Conteúdo\n",
    "\n",
    "- C# e .NET\n",
    "- Compilação e interpretação\n",
    "- Estrutura de uma aplicação C# .NET\n",
    "- Instalação do Visual Studio no Windows\n",
    "- Primeiro programa \n",
    "- Estrutura de um programa C#\n",
    "- Dicas do Visual Studio\n"
   ]
  },
  {
   "cell_type": "markdown",
   "metadata": {},
   "source": [
    "# C# e .NET\n",
    "\n",
    "- **C#:** uma linguagem de programação (regras sintáticas);\n",
    "- **.NET (2002):** (é uma Standard): uma plataforma de desenvolvimento para se criar diversos tipos de aplicações, podendo usar várias linguagens de programação.\n",
    "    - BCL - Base Class Library\n",
    "        - Disponibiliza várias bibliotecas\n",
    "    - CLR - Common Language Runtime (Máquina Virtual)\n",
    "        - Executa os programas feitos no .NET\n",
    "        - Nota: possui garbage collection (objetos não utilizados são automaticamente desalocados da memória)"
   ]
  },
  {
   "cell_type": "markdown",
   "metadata": {},
   "source": [
    "# Compilação e interpretação\n",
    "\n",
    "- Linguagens **compiladas**: C, C++\n",
    "    - Programador escreve um programa, o programa é compilado para rodar em um sistema operacional \n",
    "    - Um compilador dedicado para cada SO\n",
    "    - Vantagem: roda mais rápido\n",
    "    - Desvantagem: compilar um executavel para cada SO\n",
    "- Linguagens **interpretadas**: PHP, JavaScript\n",
    "    - Um programa em linguagem interpretada não vai ser compilado para depois rodar o executavel\n",
    "    - Em cada plataforma diferente vai ter um interpretador que é capaz de ler o código fonte e convertendo o código fonte em executavel\n",
    "    - O mesmo código vai ser executado em SO diferentes, desde que tenha o interpretador daquele SO\n",
    "    - Vantagem: manutenção\n",
    "    - Desvantagem: muito mais lento\n",
    "- Linguagens **pré-compiladas + máquina virtual**: Java, C#\n",
    "    - Programador escreve o programa, o código será pré-compilado, gerando um bytecode (roda em SO diferentes).\n",
    "    - O bytecode vai ser executado na maquina virtual especifica para cada SO\n",
    "    - Vantagem: pré-compilação deixa o código correto e mais rápido e não precisa recompilar para rodar em SO diferentes\n",
    "\n",
    "![](https://i.ibb.co/hmpN7Tx/image.png)"
   ]
  },
  {
   "cell_type": "markdown",
   "metadata": {},
   "source": [
    "# Estrutura de uma aplicação C# .NET\n",
    "\n",
    "- Uma aplicação é composta por classes\n",
    "- Namespace = agrupamento LÓGICO de classes relacionadas\n",
    "- Assembly (DLL ou EXE) = Agrupamento FÍSICO de classes relacionadas (build)\n",
    "- Aplicação = Agrupamento de assemblies relacionados\n",
    "    - Aplicação ~ Solution\n",
    "    - Assembly ~ Project\n",
    "    \n"
   ]
  },
  {
   "cell_type": "markdown",
   "metadata": {},
   "source": [
    "# Instalação do Visual Studio no Windows\n",
    "\n",
    "- Google: Visual Studio Community\n",
    "[link](https://www.visualstudio.com/pt-br/vs/community/)\n",
    "- Aba Windows -> Baixar o VS Community 2017\n",
    "\n",
    "- Rodar o instalador\n",
    "    - Cargas de Trabalho:\n",
    "    - Desenvolvimento com a Plataforma Universal do Windows\n",
    "    - Desenvolvimento para Desktop com .NET\n",
    "    - ASP.NET e desenvolvimento Web\n",
    "    - Desenvolvimento de multiplataforma com .NET Core"
   ]
  },
  {
   "cell_type": "markdown",
   "metadata": {},
   "source": [
    "# Primeiro programa em C# no Visual Studio\n",
    "\n",
    "- Arquivo -> Novo -> Projeto -> Aplicativo de Console (.NET Core)\n",
    "- File -> New -> Project -> Console App (.NET Core)\n",
    "\n",
    "    using System;\n",
    "- Solution Explorer\n",
    "    - Solution -> aplicação\n",
    "    - Project -> assembly\n",
    "- Executar o programa: CTRL + F5"
   ]
  },
  {
   "cell_type": "code",
   "execution_count": null,
   "metadata": {},
   "outputs": [],
   "source": [
    "using System;\n",
    "\n",
    "namespace Primeiro\n",
    "{\n",
    "    class Program\n",
    "    {\n",
    "        static void Main(string[] args)\n",
    "        {\n",
    "            Console.WriteLine(\"Hello World!\");\n",
    "        }\n",
    "    }\n",
    "}"
   ]
  },
  {
   "cell_type": "markdown",
   "metadata": {},
   "source": [
    "# Estrutura de um programa  C# #\n",
    "\n",
    "- Estrutura de arquivos\n",
    "    - Arquivo .sln (solução)\n",
    "    - Arquivo .csproj (configuração)\n",
    "    - Classe principal .cs (condigo fonte em c#)\n",
    "    - Subpastas obj e bin (guardar os arquivos compilados) \n",
    "   \n",
    "- Program.cs\n",
    "    - Cláusulas using: referências a outros namespaces (using System (contém funções básicas para manipulação de programa);)\n",
    "    - Namespace (agrupamento de classes relacionadas, não é obrigatório)\n",
    "    - Classe (todo código fonte em c# tem que está dentro de uma classe, nome da classe recebe o mesmo nome do arquivo (não é obrigatório, mas é mais organizado))\n",
    "    - Método \n",
    "    - static void Main(string[] args) (membro da classe, mostra o ponto de partida)"
   ]
  },
  {
   "cell_type": "markdown",
   "metadata": {},
   "source": [
    "# Dicas do Visual Studio\n",
    "\n",
    "- Ferramentas -> Opções -> Ambiente -> Configurações Internacionais -> Idioma\n",
    "- Tools -> Options -> Environment -> International Settings -> Language\n",
    "- Como fechar e reabrir o projeto?\n",
    "- Abra o arquivo .sln\n",
    "- Indentação automática: CTRL + K + D\n",
    "- Quebra de linha nas chaves: Tools -> Options -> Text Editor -> C# -> Code Estiling -> Formatting -> New Lines"
   ]
  }
 ],
 "metadata": {
  "kernelspec": {
   "display_name": "Python 3",
   "language": "python",
   "name": "python3"
  },
  "language_info": {
   "codemirror_mode": {
    "name": "ipython",
    "version": 3
   },
   "file_extension": ".py",
   "mimetype": "text/x-python",
   "name": "python",
   "nbconvert_exporter": "python",
   "pygments_lexer": "ipython3",
   "version": "3.7.6"
  }
 },
 "nbformat": 4,
 "nbformat_minor": 4
}
