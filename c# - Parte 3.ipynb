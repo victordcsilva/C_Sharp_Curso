{
 "cells": [
  {
   "cell_type": "markdown",
   "metadata": {},
   "source": [
    "# Resolvendo um problema sem orientação a objetos\n",
    "\n",
    "- Ex: Fazer um programa para ler as medidas dos lados de dois triângulos X e Y (suponha medidas válidas). Em seguida, mostrar o valor das áreas dos dois triângulos e dizer qual dos dois triângulos possui a maior área. A fórmula para calcular a área de um triângulo a partir das medidas de seus lados a, b e c é a seguinte (fórmula de Heron):\n",
    "\n",
    "$area=\\sqrt( p(p-a)(p-b)(p-c) )$ onde $p=(a+b+c)/2$"
   ]
  },
  {
   "cell_type": "code",
   "execution_count": null,
   "metadata": {},
   "outputs": [],
   "source": [
    "using System;\n",
    "using System.Globalization;\n",
    "\n",
    "namespace Aula38\n",
    "{\n",
    "    class Program\n",
    "    {\n",
    "        static void Main(string[] args)\n",
    "\n",
    "        {\n",
    "            double xA, xB, xC, yA, yB, yC;\n",
    "            Console.WriteLine(\"Entre com as medidas do Triângulo X:\");\n",
    "            xA = double.Parse(Console.ReadLine(), CultureInfo.InvariantCulture);\n",
    "            xB = double.Parse(Console.ReadLine(), CultureInfo.InvariantCulture);\n",
    "            xC = double.Parse(Console.ReadLine(), CultureInfo.InvariantCulture);\n",
    "\n",
    "            Console.WriteLine(\"Entre com as medidas do Triângulo Y:\");\n",
    "            yA = double.Parse(Console.ReadLine(), CultureInfo.InvariantCulture);\n",
    "            yB = double.Parse(Console.ReadLine(), CultureInfo.InvariantCulture);\n",
    "            yC = double.Parse(Console.ReadLine(), CultureInfo.InvariantCulture);\n",
    "\n",
    "            double p = (xA + xB + xC) / 2.0;\n",
    "            double areaX = Math.Sqrt(p * (p - xA) * (p - xB) * (p - xC));\n",
    "\n",
    "            p = (yA + yB + yC) / 2.0;\n",
    "            double areaY = Math.Sqrt(p * (p - yA) * (p - yB) * (p - yC));\n",
    "\n",
    "            Console.WriteLine(\"Area de x = \" + areaX.ToString(\"F4\",CultureInfo.InvariantCulture));\n",
    "            Console.WriteLine(\"Area de y = \"+areaY.ToString(\"F4\",CultureInfo.InvariantCulture));\n",
    "\n",
    "            if (areaX > areaY)\n",
    "            {\n",
    "                Console.WriteLine(\"Area maior é X\");\n",
    "            }\n",
    "            else\n",
    "            {\n",
    "                Console.WriteLine(\"Area maior é Y\");\n",
    "            }\n",
    "\n",
    "\n",
    "\n",
    "        }\n",
    "    }\n",
    "}\n"
   ]
  },
  {
   "cell_type": "markdown",
   "metadata": {},
   "source": [
    "# Criando uma classe com três atributos para representar melhor o triângulo\n",
    "\n",
    "- Triângulo é uma entidade com três atributos: a, b, c. Estamos usando três variáveis distintas para representar cada triângulo:"
   ]
  },
  {
   "cell_type": "code",
   "execution_count": 2,
   "metadata": {},
   "outputs": [],
   "source": [
    "double xA, xB, xC, yA, yB, yC;"
   ]
  },
  {
   "cell_type": "markdown",
   "metadata": {},
   "source": [
    "![](https://i.imgur.com/Ltbz5Oj.png)\n",
    "- Para melhorar isso, vamos usar uma CLASSE para representar um triângulo"
   ]
  },
  {
   "cell_type": "markdown",
   "metadata": {},
   "source": [
    "### Classe\n",
    "\n",
    "- É um tipo estruturado que pode conter (membros):\n",
    "    - Atributos (dados / campos)\n",
    "    - Métodos (funções / operações)\n",
    "    \n",
    "- A classe também pode prover muitos outros recursos, tais como:\n",
    "    - Construtores\n",
    "    - Sobrecarga\n",
    "    - Encapsulamento\n",
    "    - Herança\n",
    "    - Polimorfismo\n",
    "    \n",
    "- Exemplos:\n",
    "    - Entidades: Produto, Cliente, Triangulo\n",
    "    - Serviços: ProdutoService, ClienteService, EmailService, StorageService\n",
    "    - Controladores: ProdutoController, ClienteController\n",
    "    - Utilitários: Calculadora, Compactador\n",
    "    - Outros (views, repositórios, gerenciadores, etc.)\n"
   ]
  },
  {
   "cell_type": "code",
   "execution_count": 5,
   "metadata": {},
   "outputs": [],
   "source": [
    "class Triangulo {\n",
    "        public double A;\n",
    "        public double B;\n",
    "        public double C;\n",
    "}\n"
   ]
  },
  {
   "cell_type": "markdown",
   "metadata": {},
   "source": [
    "![](https://i.imgur.com/7geFv8K.png)"
   ]
  },
  {
   "cell_type": "markdown",
   "metadata": {},
   "source": [
    "#### Instanciação\n",
    "- (alocação dinâmica de memória)\n",
    "\n"
   ]
  },
  {
   "cell_type": "code",
   "execution_count": 6,
   "metadata": {},
   "outputs": [],
   "source": [
    "double areaX, areaY, p;\n",
    "Triangulo x, y;\n",
    "x = new Triangulo();"
   ]
  },
  {
   "cell_type": "markdown",
   "metadata": {},
   "source": [
    "![](https://i.imgur.com/vPIwg2Z.png)"
   ]
  },
  {
   "cell_type": "code",
   "execution_count": null,
   "metadata": {},
   "outputs": [],
   "source": [
    "using System;\n",
    "using System.Globalization;\n",
    "\n",
    "namespace Aula38\n",
    "{\n",
    "    class Program\n",
    "    {\n",
    "        static void Main(string[] args)\n",
    "\n",
    "        {\n",
    "            Triangulo x, y;\n",
    "            x = new Triangulo();\n",
    "            y = new Triangulo();\n",
    "\n",
    "            Console.WriteLine(\"Entre com as medidas do Triângulo X:\");\n",
    "            x.A = double.Parse(Console.ReadLine(), CultureInfo.InvariantCulture);\n",
    "            x.B = double.Parse(Console.ReadLine(), CultureInfo.InvariantCulture);\n",
    "            x.C = double.Parse(Console.ReadLine(), CultureInfo.InvariantCulture);\n",
    "\n",
    "            Console.WriteLine(\"Entre com as medidas do Triângulo Y:\");\n",
    "            y.A = double.Parse(Console.ReadLine(), CultureInfo.InvariantCulture);\n",
    "            y.B = double.Parse(Console.ReadLine(), CultureInfo.InvariantCulture);\n",
    "            y.C = double.Parse(Console.ReadLine(), CultureInfo.InvariantCulture);\n",
    "\n",
    "            double p = (x.A + x.B + x.C) / 2.0;\n",
    "            double areaX = Math.Sqrt(p * (p - x.A) * (p - x.B) * (p - x.C));\n",
    "\n",
    "            p = (y.A + y.B + y.C) / 2.0;\n",
    "            double areaY = Math.Sqrt(p * (p - y.A) * (p - y.B) * (p - y.C));\n",
    "\n",
    "            Console.WriteLine(\"Area de x = \" + areaX.ToString(\"F4\",CultureInfo.InvariantCulture));\n",
    "            Console.WriteLine(\"Area de y = \"+areaY.ToString(\"F4\",CultureInfo.InvariantCulture));\n",
    "\n",
    "            if (areaX > areaY)\n",
    "            {\n",
    "                Console.WriteLine(\"Area maior é X\");\n",
    "            }\n",
    "            else\n",
    "            {\n",
    "                Console.WriteLine(\"Area maior é Y\");\n",
    "            }\n",
    "\n",
    "\n",
    "\n",
    "        }\n",
    "    }\n",
    "}\n"
   ]
  },
  {
   "cell_type": "code",
   "execution_count": null,
   "metadata": {},
   "outputs": [],
   "source": [
    "using System;\n",
    "using System.Collections.Generic;\n",
    "using System.Text;\n",
    "\n",
    "namespace Aula38\n",
    "{\n",
    "    class Triangulo\n",
    "    {\n",
    "        public double A; //Atributo começa com letra maiscula \n",
    "        public double B;\n",
    "        public double C;\n",
    "\n",
    "\n",
    "    }\n",
    "}"
   ]
  },
  {
   "cell_type": "markdown",
   "metadata": {},
   "source": [
    "#### Classes, objetos, atributos\n",
    "\n",
    "- Classe: é a definição do tipo\n",
    "- Objetos: são instâncias da classe"
   ]
  },
  {
   "cell_type": "code",
   "execution_count": null,
   "metadata": {},
   "outputs": [],
   "source": []
  }
 ],
 "metadata": {
  "kernelspec": {
   "display_name": ".NET (C#)",
   "language": "C#",
   "name": ".net-csharp"
  },
  "language_info": {
   "file_extension": ".cs",
   "mimetype": "text/x-csharp",
   "name": "C#",
   "pygments_lexer": "csharp",
   "version": "8.0"
  }
 },
 "nbformat": 4,
 "nbformat_minor": 4
}
