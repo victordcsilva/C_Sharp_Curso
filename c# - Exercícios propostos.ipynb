{
 "cells": [
  {
   "cell_type": "markdown",
   "metadata": {},
   "source": [
    "# Exercício 1\n",
    "\n",
    "- Faça um programa para ler dois valores inteiros, e depois mostrar na tela a soma desses números com uma mensagem explicativa.\n"
   ]
  },
  {
   "cell_type": "code",
   "execution_count": null,
   "metadata": {},
   "outputs": [],
   "source": [
    "using System;\n",
    "\n",
    "namespace Ex_prop\n",
    "{\n",
    "    class Program\n",
    "    {\n",
    "        static void Main(string[] args)\n",
    "        {\n",
    "            int n1 = int.Parse(Console.ReadLine());\n",
    "            int n2 = int.Parse(Console.ReadLine());\n",
    "\n",
    "            int soma = n1 + n2;\n",
    "\n",
    "            Console.WriteLine(\"SOMA = {0}\",soma);\n",
    "        }\n",
    "    }\n",
    "}"
   ]
  },
  {
   "cell_type": "markdown",
   "metadata": {},
   "source": [
    "# Exercício 2\n",
    "\n",
    "- Faça um programa para ler o valor do raio de um círculo, e depois mostrar o valor da área deste círculo com quatro casas decimais conforme exemplos. \n",
    "    - Formula da área: área = $\\pi.raio^2$\n",
    "    - $\\pi = 3.14159$"
   ]
  },
  {
   "cell_type": "code",
   "execution_count": null,
   "metadata": {},
   "outputs": [],
   "source": [
    "using System;\n",
    "using System.Globalization;\n",
    "\n",
    "namespace Ex_prop\n",
    "{\n",
    "    class Program\n",
    "    {\n",
    "        static void Main(string[] args)\n",
    "        {\n",
    "            \n",
    "\n",
    "            double pi = 3.14159, area = 0;\n",
    "            double r = double.Parse(Console.ReadLine(), CultureInfo.InvariantCulture);\n",
    "\n",
    "            area = pi * Math.Pow(r, 2.0);\n",
    "            Console.WriteLine(\"A = \" + area.ToString(\"F4\", CultureInfo.InvariantCulture));\n",
    "            \n",
    "        }\n",
    "    }\n",
    "}\n"
   ]
  },
  {
   "cell_type": "markdown",
   "metadata": {},
   "source": [
    "# Exercício 3\n",
    "- Fazer um programa para ler quatro valores inteiros A, B, C e D. A seguir, calcule e mostre a diferença do produto de A e B pelo produto de C e D segundo a fórmula: DIFERENCA = (A * B - C * D)."
   ]
  },
  {
   "cell_type": "code",
   "execution_count": null,
   "metadata": {},
   "outputs": [],
   "source": [
    "using System;\n",
    "\n",
    "namespace Ex_prop\n",
    "{\n",
    "    class Program\n",
    "    {\n",
    "        static void Main(string[] args)\n",
    "        {\n",
    "            int A = int.Parse(Console.ReadLine());\n",
    "            int B = int.Parse(Console.ReadLine());\n",
    "            int C = int.Parse(Console.ReadLine());\n",
    "            int D = int.Parse(Console.ReadLine());\n",
    "\n",
    "            int diferenca = (A * B - C * D);\n",
    "\n",
    "            Console.WriteLine(\"DIFERENÇA = \"+diferenca);\n",
    "        }\n",
    "    }\n",
    "}"
   ]
  },
  {
   "cell_type": "markdown",
   "metadata": {},
   "source": [
    "# Exercício 4\n",
    "- Fazer um programa que leia o número de um funcionário, seu número de horas trabalhadas, o valor que recebe por hora e calcula o salário desse funcionário. A seguir, mostre o número e o salário do funcionário, com duas casas decimais. \n"
   ]
  },
  {
   "cell_type": "code",
   "execution_count": null,
   "metadata": {},
   "outputs": [],
   "source": [
    "using System;\n",
    "using System.Globalization;\n",
    "\n",
    "namespace Ex_prop\n",
    "{\n",
    "    class Program\n",
    "    {\n",
    "        static void Main(string[] args)\n",
    "        {\n",
    "            \n",
    "\n",
    "            int n = int.Parse(Console.ReadLine());\n",
    "            double horas = double.Parse(Console.ReadLine(),CultureInfo.InvariantCulture);\n",
    "            double salario = double.Parse(Console.ReadLine(),CultureInfo.InvariantCulture);\n",
    "\n",
    "            double salario_final = horas * salario;\n",
    "\n",
    "            Console.WriteLine(\"NUMBER = \"+n);\n",
    "            Console.WriteLine(\"SALARY = U$ \"+salario_final.ToString(\"F2\",CultureInfo.InvariantCulture));\n",
    "        }\n",
    "    }\n",
    "}\n"
   ]
  },
  {
   "cell_type": "markdown",
   "metadata": {},
   "source": [
    "# Exercício 5\n",
    "\n",
    "- Fazer um programa para ler o código de uma peça 1, o número  de peças 1, o valor unitário de cada peça 1, o código de uma peça 2, o número de peças 2 e o valor unitário de cada peça 2. Calcule e mostre o valor a ser pago. \n",
    "\n"
   ]
  },
  {
   "cell_type": "code",
   "execution_count": null,
   "metadata": {},
   "outputs": [],
   "source": [
    "using System;\n",
    "using System.Globalization;\n",
    "\n",
    "namespace Ex_prop\n",
    "{\n",
    "    class Program\n",
    "    {\n",
    "        static void Main(string[] args)\n",
    "        {\n",
    "            \n",
    "\n",
    "            string[] p1 = Console.ReadLine().Split(' ');\n",
    "            string[] p2 = Console.ReadLine().Split(' ');\n",
    "\n",
    "            int cod1 = int.Parse(p1[0]);\n",
    "            int cod2 = int.Parse(p2[0]);\n",
    "\n",
    "            double num1 = double.Parse(p1[1],CultureInfo.InvariantCulture);\n",
    "            double num2 = double.Parse(p2[1],CultureInfo.InvariantCulture);\n",
    "\n",
    "            double val1 = double.Parse(p1[2], CultureInfo.InvariantCulture);\n",
    "            double val2 = double.Parse(p2[2], CultureInfo.InvariantCulture);\n",
    "\n",
    "            double total = num1 * val1 + num2 * val2;\n",
    "\n",
    "            Console.WriteLine(\"VALOR A PAGAR: R$ \"+total.ToString(\"F2\",CultureInfo.InvariantCulture));\n",
    "\n",
    "        }\n",
    "    }\n",
    "}\n"
   ]
  },
  {
   "cell_type": "markdown",
   "metadata": {},
   "source": [
    "# Exercício 6 \n",
    "- Fazer um programa que leia três valores com ponto flutuante de dupla precisão: A, B e C. Em seguida, calcule e mostre:\n",
    "    - A área do triângulo retângulo que tem A por base e C por altura;\n",
    "    - A área do círculo de raio C. ($\\pi = 3.14159$);\n",
    "    - A área do trapézio que tem A e B por bases e C por altura;\n",
    "    - A área do quadrado que tem lado B;\n",
    "    - A área do retângulo que tem lados A e B;\n",
    "    "
   ]
  },
  {
   "cell_type": "code",
   "execution_count": null,
   "metadata": {},
   "outputs": [],
   "source": [
    "using System;\n",
    "using System.Globalization;\n",
    "\n",
    "namespace Ex_prop\n",
    "{\n",
    "    class Program\n",
    "    {\n",
    "        static void Main(string[] args)\n",
    "        {\n",
    "            string[] s = Console.ReadLine().Split(' ');\n",
    "\n",
    "\n",
    "            float A = float.Parse(s[0],CultureInfo.InvariantCulture);\n",
    "            float B = float.Parse(s[1],CultureInfo.InvariantCulture);\n",
    "            float C = float.Parse(s[2], CultureInfo.InvariantCulture) ;\n",
    "\n",
    "            //Area triangulo = (base*altura)/2\n",
    "            float triangulo = (A * C) / 2;\n",
    "            //Area circulo = pi*raio^2\n",
    "            double pi = 3.14159;\n",
    "            double circulo = Math.Pow(C, 2) * pi;\n",
    "            //Area trapezio = ((B+b)*altura)/2\n",
    "            float trapezio = (A+B)*C/2;\n",
    "            //area quadrado = A^2\n",
    "            double quadrado = Math.Pow(B, 2);\n",
    "            //area retangulo = A*B\n",
    "            double retangulo = A * B;\n",
    "\n",
    "            Console.WriteLine(\"Triangulo: \"+triangulo.ToString(\"F3\",CultureInfo.InvariantCulture));\n",
    "            Console.WriteLine(\"Circulo: \" + circulo.ToString(\"F3\", CultureInfo.InvariantCulture));\n",
    "            Console.WriteLine(\"Trapezio: \" + trapezio.ToString(\"F3\", CultureInfo.InvariantCulture));\n",
    "            Console.WriteLine(\"Quadrado: \" + quadrado.ToString(\"F3\", CultureInfo.InvariantCulture));\n",
    "            Console.WriteLine(\"Retangulo: \" + retangulo.ToString(\"F3\", CultureInfo.InvariantCulture));\n",
    "\n",
    "\n",
    "\n",
    "\n",
    "        }\n",
    "    }\n",
    "}\n"
   ]
  }
 ],
 "metadata": {
  "kernelspec": {
   "display_name": "Python 3",
   "language": "python",
   "name": "python3"
  },
  "language_info": {
   "codemirror_mode": {
    "name": "ipython",
    "version": 3
   },
   "file_extension": ".py",
   "mimetype": "text/x-python",
   "name": "python",
   "nbconvert_exporter": "python",
   "pygments_lexer": "ipython3",
   "version": "3.7.6"
  }
 },
 "nbformat": 4,
 "nbformat_minor": 4
}
