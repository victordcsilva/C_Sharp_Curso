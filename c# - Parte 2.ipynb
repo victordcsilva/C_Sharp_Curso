{
 "cells": [
  {
   "cell_type": "markdown",
   "metadata": {},
   "source": [
    "### Tipos basicos \n",
    "\n",
    "- C# é uma linguagem estaticamente tipada\n",
    "- Tipos valor pré-definidos em C#\n",
    "- Tipos referência pré-definidos em C#\n",
    "- Variável não atribuída\n",
    "- Overflow\n",
    "- Padrão para float: sufixo \"f\"\n",
    "- Padrão para char: aspas simples\n",
    "- Padrão para string: aspas duplas\n",
    "- Padrão para bool: true, false\n",
    "- Opção: inferência de tipos com palavra \"var\" (dentro de métodos)\n",
    "\n",
    "**C# built-in data types (tipos valor)**\n",
    "\n",
    "![](https://i.stack.imgur.com/FqxW5.png)\n",
    "\n",
    "**C# built-in data types (tipos referência)**\n",
    "- Tipo C#\n",
    "    - String\n",
    "        - Uma cadeia de caracteres Unicode IMUTÁVEL (segurança, simplicidade, thread safe)\n",
    "    - object\n",
    "        - Um objeto genérico (toda classe em C# é subclasse de object) GetType Equals GetHashCode ToString\n",
    "- Tipo .NET\n",
    "    - System.String\n",
    "    - System.Object \n",
    "    \n",
    "**Demo**"
   ]
  },
  {
   "cell_type": "code",
   "execution_count": 1,
   "metadata": {},
   "outputs": [
    {
     "name": "stdout",
     "output_type": "stream",
     "text": [
      "False\n",
      "F\n",
      "A\n",
      "126\n",
      "1000\n",
      "2147483647\n",
      "2147483648\n",
      "4,5\n",
      "4,5\n",
      "Maria Green\n",
      "Alex Brown\n",
      "4,5\n",
      "-2147483648\n",
      "2147483647\n",
      "79228162514264337593543950335\n"
     ]
    }
   ],
   "source": [
    "bool completo = false;\n",
    "char genero = 'F';\n",
    "char letra = '\\u0041';\n",
    "byte n1 = 126;\n",
    "int n2 = 1000;\n",
    "int n3 = 2147483647;\n",
    "long n4 = 2147483648L;\n",
    "float n5 = 4.5f;\n",
    "double n6 = 4.5;\n",
    "String nome = \"Maria Green\";\n",
    "Object obj1 = \"Alex Brown\";\n",
    "Object obj2 = 4.5f;\n",
    "Console.WriteLine(completo);\n",
    "Console.WriteLine(genero);\n",
    "Console.WriteLine(letra);\n",
    "Console.WriteLine(n1);\n",
    "Console.WriteLine(n2);\n",
    "Console.WriteLine(n3);\n",
    "Console.WriteLine(n4);\n",
    "Console.WriteLine(n5);\n",
    "Console.WriteLine(n6);\n",
    "Console.WriteLine(nome);\n",
    "Console.WriteLine(obj1);\n",
    "Console.WriteLine(obj2);\n",
    "int n7 = int.MinValue;\n",
    "int n8 = int.MaxValue;\n",
    "decimal n9 = decimal.MaxValue;\n",
    "Console.WriteLine(n7);\n",
    "Console.WriteLine(n8);\n",
    "Console.WriteLine(n9);"
   ]
  },
  {
   "cell_type": "markdown",
   "metadata": {},
   "source": [
    "**Funções para valores mínimos e máximos**\n",
    "- int.MinValue\n",
    "- int.MaxValue\n",
    "- sbyte.MaxValue\n",
    "- long.MaxValue\n",
    "- decimal.MaxValue\n",
    "- etc...\n",
    "\n",
    "**Tipo valor vs tipo referência**\n",
    "int x = 30;\n",
    "string s = \"Maria\"\n",
    "\n",
    "![](https://i.imgur.com/9htgON9.png)"
   ]
  },
  {
   "cell_type": "markdown",
   "metadata": {},
   "source": [
    "### Restrições e convenções para nomes\n",
    "\n",
    "- Restrições para nomes de variáveis\n",
    "    - Não pode começar com dígito: use uma letra ou _\n",
    "    - Não usar acentos ou til\n",
    "    - Não pode ter espaço em branco\n",
    "    - Sugestão: use nomes que tenham um significado\n",
    "    \n",
    "**Errado**\n",
    "\n",
    "int 5minutos;\n",
    "\n",
    "int salário;\n",
    "\n",
    "int salario do funcionario;\n",
    "\n",
    "**Correto**\n",
    "\n",
    "int _5minutos;\n",
    "\n",
    "int salario;\n",
    "\n",
    "int salarioDoFuncionario;\n",
    "\n",
    "**Convenções**\n",
    "\n",
    "- **Camel Case:** lastName (parâmetros de métodos, variáveis dentro de métodos)\n",
    "- **Pascal Case:** LastName (namespaces, classe, properties e métodos)\n",
    "- **Padrão** _lastName (atributos \"internos\" da classe)\n",
    "\n"
   ]
  },
  {
   "cell_type": "code",
   "execution_count": 2,
   "metadata": {},
   "outputs": [],
   "source": [
    "class ContaBancaria\n",
    "\n",
    "    {\n",
    "        public string Titular { get; set; }\n",
    "        private double _saldo;\n",
    "        \n",
    "        public void Deposito(double quantia)\n",
    "        {\n",
    "            _saldo += quantia;\n",
    "        }\n",
    "        public double GetSaldo()\n",
    "        {\n",
    "            return _saldo;\n",
    "        }\n",
    "}\n"
   ]
  },
  {
   "cell_type": "markdown",
   "metadata": {},
   "source": [
    "### Saída de dados em C#\n",
    "\n",
    "**Imprimir na saída padrão (console)**\n",
    "\n",
    "- Comandos\n",
    "    - Console.WriteLine( valor ); imprime pulando linha\n",
    "    - Console.Write( valor ); imprime sem pular linha\n",
    "    \n",
    "**Demo**"
   ]
  },
  {
   "cell_type": "code",
   "execution_count": null,
   "metadata": {},
   "outputs": [],
   "source": [
    "using System.Globalization;\n",
    "\n",
    "namespace ConsoleApplication2 {\n",
    "    class Program {\n",
    "        static void Main(string[] args) {\n",
    "\n",
    "            double x = 10.35784;\n",
    "            int y = 32;\n",
    "            string z = \"Maria\";\n",
    "            char w = 'F';\n",
    "\n",
    "            Console.Write(\"Olá mundo!\");\n",
    "            Console.WriteLine(\"Bom dia!\");\n",
    "            Console.WriteLine(\"Até mais.\");\n",
    "\n",
    "            Console.WriteLine();\n",
    "            Console.WriteLine(x);\n",
    "            Console.WriteLine(x.ToString(\"F2\"));\n",
    "            Console.WriteLine(x.ToString(\"F4\"));\n",
    "            Console.WriteLine(x.ToString(\"F2\", CultureInfo.InvariantCulture));\n",
    "\n",
    "            Console.WriteLine();\n",
    "            Console.WriteLine(\"RESULTADO = \" + x);\n",
    "            Console.WriteLine(\"O valor do troco é \" + x + \" reais\");\n",
    "            Console.WriteLine(\"O valor do troco é \" + x.ToString(\"F2\") + \" reais\");\n",
    "\n",
    "            Console.WriteLine();\n",
    "            Console.WriteLine(\"A paciente \" + z + \" tem \" + y + \" anos e seu sexo é: \" + w);\n",
    "\n",
    "            Console.ReadLine();\n",
    "        }\n",
    "    }\n",
    "}\n"
   ]
  },
  {
   "cell_type": "markdown",
   "metadata": {},
   "source": [
    "**Placeholders, concatenação e interpolação**"
   ]
  },
  {
   "cell_type": "code",
   "execution_count": null,
   "metadata": {},
   "outputs": [],
   "source": [
    "int idade = 32;\n",
    "\n",
    "double saldo = 10.35784;\n",
    "\n",
    "String nome = \"Maria\";\n",
    "\n",
    "Console.WriteLine(\"{0} tem {1} anos e tem saldo igual a {2:F2} reais\", nome, idade, saldo);\n",
    "\n",
    "Console.WriteLine($\"{nome} tem {idade} anos e tem saldo igual a {saldo:F2} reais\");\n",
    "\n",
    "Console.WriteLine(nome + \" tem \" + idade + \" anos e tem saldo igual a \"+ saldo.ToString(\"F2\", CultureInfo.InvariantCulture) + \" reais\");"
   ]
  },
  {
   "cell_type": "markdown",
   "metadata": {},
   "source": [
    "**Exercício de fixação**\n",
    "- Variáveis:\n",
    "string produto1 = \"Computador\";\n",
    "string produto2 = \"Mesa de escritório\";\n",
    "byte idade = 30;\n",
    "int codigo = 5290;\n",
    "char genero = 'M';\n",
    "double preco1 = 2100.0;\n",
    "double preco2 = 650.50;\n",
    "double medida = 53.234567;\n",
    "\n",
    "- Em seguida, usando os valores das variáveis, produza a seguinte saída na tela do console:\n",
    "\n",
    "Produtos:\n",
    "\n",
    "Computador, cujo preço é $ 2100,00\n",
    "\n",
    "Mesa de escritório, cujo preco é $ 650,50\n",
    "\n",
    "Registro: 30 anos de idade, código 5290 e gênero: M\n",
    "\n",
    "Medida com oito casas decimais: 53,23456700\n",
    "\n",
    "Arredondado (três casas decimais): 53,235\n",
    "\n",
    "Separador decimal invariant culture: 53.235\n",
    "\n",
    "--\n",
    "\n"
   ]
  },
  {
   "cell_type": "code",
   "execution_count": null,
   "metadata": {},
   "outputs": [],
   "source": [
    "using System;\n",
    "\n",
    "using System.Globalization;\n",
    "\n",
    "namespace Course {\n",
    "\n",
    "class Program {\n",
    "\n",
    "static void Main(string[] args) {\n",
    "\n",
    "string produto1 = \"Computador\";\n",
    "\n",
    "string produto2 = \"Mesa de escritório\";\n",
    "\n",
    "byte idade = 30;\n",
    "\n",
    "int codigo = 5290;\n",
    "\n",
    "char genero = 'M';\n",
    "\n",
    "double preco1 = 2100.0;\n",
    "\n",
    "double preco2 = 650.50;\n",
    "\n",
    "double medida = 53.234567;\n",
    "\n",
    "Console.WriteLine(\"Produtos:\");\n",
    "\n",
    "Console.WriteLine(\"{0}, cujo preço é $ {1:F2}\", produto1, preco1);\n",
    "\n",
    "Console.WriteLine(\"{0}, cujo preco é $ {1:F2}\", produto2, preco2);\n",
    "\n",
    "Console.WriteLine();\n",
    "\n",
    "Console.WriteLine(\"Registro: {0} anos de idade, código {1} e \n",
    "gênero: {2}\", idade, codigo, genero);\n",
    "\n",
    "Console.WriteLine();\n",
    "\n",
    "Console.WriteLine(\"Medida com oito casas decimais: {0:F8}\", \n",
    "medida);\n",
    "\n",
    "Console.WriteLine(\"Arredondado (três casas decimais): {0:F3}\", \n",
    "medida);\n",
    "\n",
    "Console.WriteLine(\"Separador decimal invariant culture: \" + \n",
    "medida.ToString(\"F3\", CultureInfo.InvariantCulture));\n",
    "\n",
    "}\n",
    "\n",
    "}\n",
    "\n",
    "}\n"
   ]
  },
  {
   "cell_type": "markdown",
   "metadata": {},
   "source": [
    "### Operadores de atriuição\n",
    "![](https://i.imgur.com/Q3cY4FE.png)\n",
    "\n"
   ]
  },
  {
   "cell_type": "code",
   "execution_count": 3,
   "metadata": {},
   "outputs": [
    {
     "name": "stdout",
     "output_type": "stream",
     "text": [
      "10\n",
      "12\n",
      "36\n",
      "ABC\n",
      "ABCDEF\n"
     ]
    }
   ],
   "source": [
    "int a = 10;\n",
    "\n",
    "Console.WriteLine(a);\n",
    "\n",
    "a += 2;\n",
    "\n",
    "Console.WriteLine(a);\n",
    "\n",
    "a *= 3;\n",
    "\n",
    "Console.WriteLine(a);\n",
    "\n",
    "string s = \"ABC\";\n",
    "\n",
    "Console.WriteLine(s);\n",
    "\n",
    "s += \"DEF\";\n",
    "\n",
    "Console.WriteLine(s);"
   ]
  },
  {
   "cell_type": "markdown",
   "metadata": {},
   "source": [
    "**Operadores atitméticos/atribuição**\n",
    "![](https://i.imgur.com/tq7Zz4k.png)\n"
   ]
  },
  {
   "cell_type": "code",
   "execution_count": 4,
   "metadata": {},
   "outputs": [
    {
     "name": "stdout",
     "output_type": "stream",
     "text": [
      "11\r\n"
     ]
    }
   ],
   "source": [
    "int a = 10;\n",
    "\n",
    "a++;\n",
    "\n",
    "Console.WriteLine(a);"
   ]
  },
  {
   "cell_type": "code",
   "execution_count": 5,
   "metadata": {},
   "outputs": [
    {
     "name": "stdout",
     "output_type": "stream",
     "text": [
      "11\n",
      "10\n"
     ]
    }
   ],
   "source": [
    "int a = 10;\n",
    "\n",
    "int b = a++;\n",
    "\n",
    "Console.WriteLine(a);\n",
    "\n",
    "Console.WriteLine(b);"
   ]
  },
  {
   "cell_type": "code",
   "execution_count": 6,
   "metadata": {},
   "outputs": [
    {
     "name": "stdout",
     "output_type": "stream",
     "text": [
      "11\n",
      "11\n"
     ]
    }
   ],
   "source": [
    "int a = 10;\n",
    "\n",
    "int b = ++a;\n",
    "\n",
    "Console.WriteLine(a);\n",
    "\n",
    "Console.WriteLine(b);"
   ]
  },
  {
   "cell_type": "markdown",
   "metadata": {},
   "source": [
    "### Conversão implícita e casting\n",
    "\n",
    "- [**Conversão implícita entre tipo**](https://docs.microsoft.com/pt-br/dotnet/csharp/language-reference/keywords/implicit-numeric-conversions-table)\n",
    "- **Casting**: Conversão explícita entre tipos compatíveis\n"
   ]
  },
  {
   "cell_type": "code",
   "execution_count": 11,
   "metadata": {},
   "outputs": [
    {
     "name": "stdout",
     "output_type": "stream",
     "text": [
      "4,5\r\n"
     ]
    }
   ],
   "source": [
    "float x = 4.5f;\n",
    "\n",
    "double y = x; //mplícita, o inverso não pode, double tem 8 bytes, float tem 4 bytes. \n",
    "Console.WriteLine(y);"
   ]
  },
  {
   "cell_type": "code",
   "execution_count": 10,
   "metadata": {},
   "outputs": [
    {
     "name": "stdout",
     "output_type": "stream",
     "text": [
      "5,1\r\n"
     ]
    }
   ],
   "source": [
    "double a;\n",
    "float b;\n",
    "a = 5.1;\n",
    "b = (float)a; //casting, pode ter perde de informação, mas é permitido\n",
    "Console.WriteLine(b);"
   ]
  },
  {
   "cell_type": "code",
   "execution_count": 9,
   "metadata": {},
   "outputs": [
    {
     "name": "stdout",
     "output_type": "stream",
     "text": [
      "5\r\n"
     ]
    }
   ],
   "source": [
    "double a;\n",
    "int b;\n",
    "\n",
    "a = 5.1;\n",
    "b = (int)a; //casting, vai ter perda de informação\n",
    "\n",
    "Console.WriteLine(b);"
   ]
  },
  {
   "cell_type": "code",
   "execution_count": 8,
   "metadata": {},
   "outputs": [
    {
     "name": "stdout",
     "output_type": "stream",
     "text": [
      "2,5\r\n"
     ]
    }
   ],
   "source": [
    "int a = 5;\n",
    "\n",
    "int b = 2;\n",
    "\n",
    "double resultado = (double) a / b; //sem casting há perda de informação\n",
    "Console.WriteLine(resultado);"
   ]
  },
  {
   "cell_type": "markdown",
   "metadata": {},
   "source": [
    "### Operadores aritméticos\n",
    "\n",
    "![](https://i.imgur.com/jl0s18d.png)\n",
    "\n",
    "- Adição, divisão e resto tem precedência maior que soma e subtração.\n"
   ]
  },
  {
   "cell_type": "code",
   "execution_count": 12,
   "metadata": {},
   "outputs": [
    {
     "name": "stdout",
     "output_type": "stream",
     "text": [
      "11\n",
      "14\n",
      "2\n",
      "1,25\n",
      "25\n",
      "4\n",
      "-1\n"
     ]
    }
   ],
   "source": [
    "int n1 = 3 + 4 * 2;\n",
    "\n",
    "int n2 = (3 + 4) * 2;\n",
    "\n",
    "int n3 = 17 % 3;\n",
    "\n",
    "double n4 = 10.0 / 8.0;\n",
    "\n",
    "double a = 1.0, b = -3.0, c = -4.0;\n",
    "\n",
    "double delta = Math.Pow(b, 2.0) - 4.0 * a * c;\n",
    "\n",
    "double x1 = (-b + Math.Sqrt(delta)) / (2.0 * a);\n",
    "\n",
    "double x2 = (-b - Math.Sqrt(delta)) / (2.0 * a);\n",
    "\n",
    "Console.WriteLine(n1);\n",
    "Console.WriteLine(n2);\n",
    "Console.WriteLine(n3);\n",
    "Console.WriteLine(n4);\n",
    "Console.WriteLine(delta);\n",
    "Console.WriteLine(x1);\n",
    "Console.WriteLine(x2);"
   ]
  },
  {
   "cell_type": "markdown",
   "metadata": {},
   "source": [
    "### Entrada de dados em C# - Parte 1\n",
    "\n",
    "- **Comando**\n",
    "- Console.ReadLine();\n",
    "    - Lê da entrada padrão **até a quebra de linha.**\n",
    "    - Retorna os dados lidos **na forma de string.**\n",
    "    \n",
    "- Checklist\n",
    "    - Ler um texto até a quebra de linha e armazenar em uma variável\n",
    "    - Ler três palavras, uma em cada linha, armazenando cada uma em uma variável\n",
    "    - Ler três palavras na mesma linha, separadas por espaço, armazenando cada uma em uma variável\n",
    "    \n",
    "- Split\n",
    "\n",
    "\n"
   ]
  },
  {
   "cell_type": "code",
   "execution_count": null,
   "metadata": {},
   "outputs": [],
   "source": [
    "string s = Console.ReadLine();\n",
    "\n",
    "string[] vet = s.Split(' ');\n",
    "\n",
    "string p1 = vet[0];\n",
    "\n",
    "string p2 = vet[1];\n",
    "\n",
    "string p3 = vet[2];\n"
   ]
  },
  {
   "cell_type": "code",
   "execution_count": null,
   "metadata": {},
   "outputs": [],
   "source": [
    "\n",
    "string frase = Console.ReadLine();\n",
    "\n",
    "string x = Console.ReadLine();\n",
    "\n",
    "string y = Console.ReadLine();\n",
    "\n",
    "string z = Console.ReadLine();\n",
    "\n",
    "string[] v = Console.ReadLine().Split(' ');\n",
    "\n",
    "string a = v[0];\n",
    "\n",
    "string b = v[1];\n",
    "\n",
    "string c = v[2];\n"
   ]
  },
  {
   "cell_type": "markdown",
   "metadata": {},
   "source": [
    "### Exercicio \n",
    "- Fazer um programa para executar a seguinte interação com o usuário, lendo os valores destacados em vermelho, e depois mostrar os dados na tela:\n",
    "\n",
    "Entre com seu nome completo:\n",
    "\n",
    "Alex Green\n",
    "\n",
    "Quantos quartos tem na sua casa?\n",
    "\n",
    "3\n",
    "\n",
    "Entre com o preço de um produto:\n",
    "\n",
    "500.50\n",
    "\n",
    "Entre seu último nome, idade e altura (mesma linha):\n",
    "\n",
    "Green 21 1.73"
   ]
  },
  {
   "cell_type": "code",
   "execution_count": null,
   "metadata": {},
   "outputs": [],
   "source": [
    "Console.WriteLine(\"Entre com seu nome completo:\");\n",
    "\n",
    "string fullName = Console.ReadLine();\n",
    "\n",
    "Console.WriteLine(\"Quantos quartos tem na sua casa?\");\n",
    "\n",
    "int bedrooms = int.Parse(Console.ReadLine());\n",
    "\n",
    "Console.WriteLine(\"Enter product price:\");\n",
    "\n",
    "double price = double.Parse(Console.ReadLine(), CultureInfo.InvariantCulture);\n",
    "\n",
    "Console.WriteLine(\"Entre seu último nome, idade e altura (mesma linha):\");\n",
    "\n",
    "\n",
    "string[] vect = Console.ReadLine().Split(' ');\n",
    "\n",
    "string lastName = vect[0];\n",
    "\n",
    "int age = int.Parse(vect[1]);\n",
    "\n",
    "double height = double.Parse(vect[2], CultureInfo.InvariantCulture);\n",
    "\n",
    "Console.WriteLine(fullName);\n",
    "\n",
    "Console.WriteLine(bedrooms);\n",
    "\n",
    "Console.WriteLine(price.ToString(\"F2\", CultureInfo.InvariantCulture));\n",
    "\n",
    "Console.WriteLine(lastName);\n",
    "\n",
    "Console.WriteLine(age);\n",
    "\n",
    "Console.WriteLine(height.ToString(\"F2\", CultureInfo.InvariantCulture));"
   ]
  },
  {
   "cell_type": "markdown",
   "metadata": {},
   "source": [
    "# Operadores comparativos\n",
    "\n",
    "![](https://i.imgur.com/YHSW68j.png)\n"
   ]
  },
  {
   "cell_type": "code",
   "execution_count": 19,
   "metadata": {},
   "outputs": [
    {
     "name": "stdout",
     "output_type": "stream",
     "text": [
      "False\n",
      "True\n",
      "False\n",
      "True\n",
      "------------\n",
      "True\n",
      "True\n",
      "True\n",
      "False\n"
     ]
    }
   ],
   "source": [
    "int a = 10;\n",
    "bool c1 = a < 10;\n",
    "bool c2 = a < 20;\n",
    "bool c3 = a > 10;\n",
    "bool c4 = a > 5;\n",
    "Console.WriteLine(c1);\n",
    "Console.WriteLine(c2);\n",
    "Console.WriteLine(c3);\n",
    "Console.WriteLine(c4);\n",
    "Console.WriteLine(\"------------\");\n",
    "bool c5 = a <= 10;\n",
    "bool c6 = a >= 10;\n",
    "bool c7 = a == 10;\n",
    "bool c8 = a != 10;\n",
    "Console.WriteLine(c5);\n",
    "Console.WriteLine(c6);\n",
    "Console.WriteLine(c7);\n",
    "Console.WriteLine(c8);"
   ]
  },
  {
   "cell_type": "markdown",
   "metadata": {},
   "source": [
    "# Operadores Lógicos\n",
    "\n",
    "![](https://i.imgur.com/i1g9oCj.png)"
   ]
  },
  {
   "cell_type": "code",
   "execution_count": 18,
   "metadata": {},
   "outputs": [
    {
     "name": "stdout",
     "output_type": "stream",
     "text": [
      "True\n",
      "True\n",
      "--------------\n",
      "False\n",
      "True\n"
     ]
    }
   ],
   "source": [
    "bool c1 = 2 > 3 || 4 != 5; // true\n",
    "bool c2 = !(2 > 3) && 4 != 5; // true\n",
    "Console.WriteLine(c1);\n",
    "Console.WriteLine(c2);\n",
    "Console.WriteLine(\"--------------\");\n",
    "bool c3 = 10 < 5; // false\n",
    "bool c4 = c1 || c2 && c3; // true\n",
    "Console.WriteLine(c3);\n",
    "Console.WriteLine(c4);"
   ]
  },
  {
   "cell_type": "markdown",
   "metadata": {},
   "source": [
    "# Estrutura condicional (if-else)\n",
    "\n"
   ]
  },
  {
   "cell_type": "code",
   "execution_count": null,
   "metadata": {},
   "outputs": [],
   "source": [
    "//Simples\n",
    "if ( condição ) {\n",
    "    comando 1\n",
    "    comando 2\n",
    "}"
   ]
  },
  {
   "cell_type": "code",
   "execution_count": null,
   "metadata": {},
   "outputs": [],
   "source": [
    "//Composta \n",
    "if ( condição ) {\n",
    "    comando 1\n",
    "    comando 2\n",
    "}\n",
    "else {\n",
    "    comando 3\n",
    "    comando 4\n",
    "}"
   ]
  },
  {
   "cell_type": "code",
   "execution_count": null,
   "metadata": {},
   "outputs": [],
   "source": [
    "//Encadeados \n",
    "if ( condição 1 ) {\n",
    "    comando 1\n",
    "    comando 2\n",
    "}\n",
    "else if ( condição 2 ) {\n",
    "    comando 3\n",
    "    comando 4\n",
    "}\n",
    "else if ( condição 3 ) {\n",
    "    comando 5\n",
    "    comando 6\n",
    "}\n",
    "else {\n",
    "    comando 7\n",
    "    comando 8\n",
    "}"
   ]
  },
  {
   "cell_type": "markdown",
   "metadata": {},
   "source": [
    "Ex: Faça um programa que o usuario entre com um número e retorne se é par ou impar"
   ]
  },
  {
   "cell_type": "code",
   "execution_count": null,
   "metadata": {},
   "outputs": [],
   "source": [
    "Console.WriteLine(\"Entre com um número inteiro:\");\n",
    "int x = int.Parse(Console.ReadLine());\n",
    "if (x % 2 == 0) {\n",
    "    Console.WriteLine(\"Par!\");\n",
    "}\n",
    "else {\n",
    "    Console.WriteLine(\"Impar\");\n",
    "}"
   ]
  },
  {
   "cell_type": "markdown",
   "metadata": {},
   "source": [
    "Ex: Faça um programa que receba a hora do dia e retorne, bom dia, boa tarde ou boa noite. "
   ]
  },
  {
   "cell_type": "code",
   "execution_count": null,
   "metadata": {},
   "outputs": [],
   "source": [
    "Console.WriteLine(\"Qual a hora atual?\");\n",
    "int hora = int.Parse(Console.ReadLine());\n",
    "if (hora < 12) {\n",
    "    Console.WriteLine(\"Bom dia!\");\n",
    "}\n",
    "else if (hora < 18) {\n",
    "    Console.WriteLine(\"Boa tarde!\");\n",
    "}\n",
    "else {\n",
    "    Console.WriteLine(\"Boa noite!\");\n",
    "}"
   ]
  },
  {
   "cell_type": "markdown",
   "metadata": {},
   "source": [
    "# Escopo e inicialização\n",
    "\n",
    "- Escopo de uma variável: é a região do programa onde a variável é válida, ou seja, onde ela pode ser referenciada.\n",
    "- Uma variável não pode ser usada se não for iniciada.\n",
    "- Falaremos de escopo de métodos no Capítulo \"Comportamento de memória, arrays, listas\"\n"
   ]
  },
  {
   "cell_type": "code",
   "execution_count": 4,
   "metadata": {},
   "outputs": [
    {
     "ename": "Unhandled Exception",
     "evalue": "(5,19): error CS0103: O nome \"desconto\" não existe no contexto atual",
     "output_type": "error",
     "traceback": [
      "(5,19): error CS0103: O nome \"desconto\" não existe no contexto atual"
     ]
    }
   ],
   "source": [
    "double preco = double.Parse(Console.ReadLine());\n",
    "if (preco > 100.0) {\n",
    "double desconto = preco * 0.1;\n",
    "}\n",
    "Console.WriteLine(desconto);"
   ]
  },
  {
   "cell_type": "code",
   "execution_count": null,
   "metadata": {},
   "outputs": [],
   "source": [
    "double preco = double.Parse(Console.ReadLine());\n",
    "double desconto = 0.0;\n",
    "if (preco > 100.0) {\n",
    "    desconto = preco * 0.1;\n",
    "}\n",
    "Console.WriteLine(desconto);"
   ]
  },
  {
   "cell_type": "code",
   "execution_count": null,
   "metadata": {},
   "outputs": [],
   "source": []
  },
  {
   "cell_type": "code",
   "execution_count": null,
   "metadata": {},
   "outputs": [],
   "source": []
  },
  {
   "cell_type": "code",
   "execution_count": null,
   "metadata": {},
   "outputs": [],
   "source": []
  },
  {
   "cell_type": "code",
   "execution_count": null,
   "metadata": {},
   "outputs": [],
   "source": []
  },
  {
   "cell_type": "code",
   "execution_count": null,
   "metadata": {},
   "outputs": [],
   "source": []
  }
 ],
 "metadata": {
  "kernelspec": {
   "display_name": ".NET (C#)",
   "language": "C#",
   "name": ".net-csharp"
  },
  "language_info": {
   "file_extension": ".cs",
   "mimetype": "text/x-csharp",
   "name": "C#",
   "pygments_lexer": "csharp",
   "version": "8.0"
  }
 },
 "nbformat": 4,
 "nbformat_minor": 4
}
