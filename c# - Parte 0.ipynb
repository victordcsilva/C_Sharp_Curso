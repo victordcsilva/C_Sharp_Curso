{
 "cells": [
  {
   "cell_type": "markdown",
   "metadata": {},
   "source": [
    "# Nivelamento\n",
    "\n",
    "- Introdução a C# e .NET\n",
    "- Recapitulação de Lógica de Programação usando c#\n",
    "\n",
    "# OO Básico\n",
    "\n",
    "- Classes, atributos, métodos, membros estáticos\n",
    "- Construtores, palavra this, sobrecarga, encapsulamento\n",
    "- Comportamento de memória, arrays, listas\n",
    "- Tópicos especiais em c# - PARTE 1\n",
    "\n",
    "# OO Intermediário\n",
    "\n",
    "- Enumerações, composição\n",
    "- Herança e polimorfismo\n",
    "- Tratamento de exceções\n",
    "\n",
    "# OO Intermediári / Avançado\n",
    "\n",
    "- Trabalhando com arquivos \n",
    "- Interfaces\n",
    "- Generics, Set, Dictionary\n",
    "- Tópicos especiais em C# - PARTE 2\n",
    "- Expressões lambda, delegates, LINQ\n",
    "\n",
    "# Comercial - Libs / Frameworks\n",
    "\n",
    "- Padrão Camadas, Padrão MVC, Banco de Dados, ORM, GUI, CRUD, etc.\n",
    "- ASP .NET Core, Entity Framework Core "
   ]
  }
 ],
 "metadata": {
  "kernelspec": {
   "display_name": "Python 3",
   "language": "python",
   "name": "python3"
  },
  "language_info": {
   "codemirror_mode": {
    "name": "ipython",
    "version": 3
   },
   "file_extension": ".py",
   "mimetype": "text/x-python",
   "name": "python",
   "nbconvert_exporter": "python",
   "pygments_lexer": "ipython3",
   "version": "3.7.6"
  }
 },
 "nbformat": 4,
 "nbformat_minor": 4
}
